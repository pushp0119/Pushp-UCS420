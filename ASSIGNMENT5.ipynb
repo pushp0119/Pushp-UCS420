{
  "nbformat": 4,
  "nbformat_minor": 0,
  "metadata": {
    "colab": {
      "provenance": [],
      "authorship_tag": "ABX9TyPTpiYR7YI9Z1DAc0YkYVdH",
      "include_colab_link": true
    },
    "kernelspec": {
      "name": "python3",
      "display_name": "Python 3"
    },
    "language_info": {
      "name": "python"
    }
  },
  "cells": [
    {
      "cell_type": "markdown",
      "metadata": {
        "id": "view-in-github",
        "colab_type": "text"
      },
      "source": [
        "<a href=\"https://colab.research.google.com/github/pushp0119/Pushp-UCS712/blob/main/ASSIGNMENT5.ipynb\" target=\"_parent\"><img src=\"https://colab.research.google.com/assets/colab-badge.svg\" alt=\"Open In Colab\"/></a>"
      ]
    },
    {
      "cell_type": "markdown",
      "source": [
        "Q.1 For the array gfg = np.matrix('[4, 1, 9; 12, 3, 1; 4, 5, 6]'), Find\n",
        "i. Sum of all elements\n",
        "ii. Sum of all elements row-wise\n",
        "iii. Sum of all elements column-wise"
      ],
      "metadata": {
        "id": "KM28nljeYI2D"
      }
    },
    {
      "cell_type": "code",
      "execution_count": 3,
      "metadata": {
        "colab": {
          "base_uri": "https://localhost:8080/"
        },
        "id": "kCGk86FsWZgG",
        "outputId": "1586fe19-d881-43b1-aa73-1e8c0f107dd3"
      },
      "outputs": [
        {
          "output_type": "stream",
          "name": "stdout",
          "text": [
            "Sum 45\n",
            "Sum row-wise [[14]\n",
            " [16]\n",
            " [15]]\n",
            "Sum column-wise [[20  9 16]]\n"
          ]
        }
      ],
      "source": [
        "import numpy as np\n",
        "gfg = np.matrix('[4, 1, 9; 12, 3, 1; 4, 5, 6]')\n",
        "print('Sum',np.sum(gfg))\n",
        "print('Sum row-wise',np.sum(gfg,axis=1))\n",
        "print('Sum column-wise',np.sum(gfg,axis=0))"
      ]
    },
    {
      "cell_type": "markdown",
      "source": [
        "Q.2 (a)For the array: array = np.array([10, 52, 62, 16, 16, 54, 453]), find\n",
        "i. Sorted array\n",
        "ii. Indices of sorted array\n",
        "iii. 4 smallest elements\n",
        "iv. 5 largest elements\n",
        " (b) For the array: array = np.array([1.0, 1.2, 2.2, 2.0, 3.0, 2.0]), find\n",
        "i. Integer elements only\n",
        "ii. Float elements only\n"
      ],
      "metadata": {
        "id": "sQRlTwmna_4a"
      }
    },
    {
      "cell_type": "code",
      "source": [
        "import numpy as np\n",
        "array = np.array([10, 52, 62, 16, 16, 54, 453])\n",
        "print(np.sort(array))\n",
        "print(np.argsort(array))\n",
        "print(np.partition(array,4)[:4])\n",
        "print(np.partition(array,-5)[-5:])\n",
        "\n",
        "array = np.array([1.0, 1.2, 2.2, 2.0, 3.0, 2.0])\n",
        "array1=array[array==array.astype(int)]\n",
        "array2=array[array==array.astype(float)]\n",
        "print(array1)\n",
        "print(array2)"
      ],
      "metadata": {
        "colab": {
          "base_uri": "https://localhost:8080/"
        },
        "id": "uOQMI_z-bA5a",
        "outputId": "26fcb2d4-08d7-4f9d-979a-d1721174117a"
      },
      "execution_count": 14,
      "outputs": [
        {
          "output_type": "stream",
          "name": "stdout",
          "text": [
            "[ 10  16  16  52  54  62 453]\n",
            "[0 3 4 1 5 2 6]\n",
            "[16 10 16 52]\n",
            "[ 16  52  62  54 453]\n",
            "[1. 2. 3. 2.]\n",
            "[1.  1.2 2.2 2.  3.  2. ]\n"
          ]
        }
      ]
    },
    {
      "cell_type": "markdown",
      "source": [
        "Q.3 You are given a weekly sales dataset and need to perform various operations\n",
        "using NumPy broadcasting.\n",
        "a) Generate your unique sales dataset:\n",
        " Take the sum of the ASCII values of the initials of your first and last\n",
        "name. Call this value X. (If your initials are A B → ASCII sum = 65\n",
        "+ 66 = 131 → sales = [131, 181, 231, 281, 331].)\n",
        " Create a NumPy array sales with values [X, X+50, X+100, X+150,\n",
        "X+200].\n",
        "b) Compute your personalized tax rate as ((X % 5) + 5) / 100.\n",
        " Use broadcasting to apply this tax rate to each sales value.\n",
        "c) Adjust sales based on discount:\n",
        " If sales < X+100, apply a 5% discount.\n",
        " If sales >= X+100, apply a 10% discount.\n",
        "d) Expand sales data for multiple weeks:\n",
        " Create a 3×5 matrix representing three weeks of sales by stacking\n",
        "sales three times using broadcasting.\n",
        " Increase sales by 2% per week using element-wise broadcasting."
      ],
      "metadata": {
        "id": "Q3EFeSY1e8YW"
      }
    },
    {
      "cell_type": "code",
      "source": [
        "import numpy as np\n",
        "X=ord('P')+ord('B')\n",
        "sales=np.array([X, X+50, X+100, X+150,X+200])\n",
        "print(sales)\n",
        "taxrate=((X % 5) + 5) / 100\n",
        "taxsales=sales*(1+taxrate)\n",
        "print(taxsales)\n",
        "discsales=np.where(sales<X+100,sales*0.95,sales*0.9)\n",
        "print(discsales)\n",
        "weeklysales=np.tile(sales,(3,1))\n",
        "print(weeklysales)\n",
        "newWeekly=weeklysales*(1.02)\n",
        "print(newWeekly)"
      ],
      "metadata": {
        "colab": {
          "base_uri": "https://localhost:8080/"
        },
        "id": "kVzcRpBRe9pl",
        "outputId": "53176384-b1d8-4a8e-ad64-5554275a9c84"
      },
      "execution_count": 25,
      "outputs": [
        {
          "output_type": "stream",
          "name": "stdout",
          "text": [
            "[146 196 246 296 346]\n",
            "[154.76 207.76 260.76 313.76 366.76]\n",
            "[138.7 186.2 221.4 266.4 311.4]\n",
            "[[146 196 246 296 346]\n",
            " [146 196 246 296 346]\n",
            " [146 196 246 296 346]]\n",
            "[[148.92 199.92 250.92 301.92 352.92]\n",
            " [148.92 199.92 250.92 301.92 352.92]\n",
            " [148.92 199.92 250.92 301.92 352.92]]\n"
          ]
        }
      ]
    },
    {
      "cell_type": "markdown",
      "source": [
        "Q4. Generate x values using np.linspace() from -10 to 10 with 100 points. Use\n",
        "each function from the list below and compute y values using NumPy:\n",
        " Y = x2\n",
        " Y = sin(x)\n",
        " Y = ex\n",
        " Y = log(|x| + 1)\n",
        "Plot the chosen function using Matplotlib. Add title, labels, and grid for clarity."
      ],
      "metadata": {
        "id": "pTWeMAsQm9JX"
      }
    },
    {
      "cell_type": "code",
      "source": [
        "import numpy as np\n",
        "import matplotlib.pyplot as plt\n",
        "x=np.linspace(-10,10,100)\n",
        "y=x*x\n",
        "%matplotlib inline\n",
        "plt.plot(x,y)\n",
        "\n",
        "y=np.sin(x)\n",
        "plt.plot(x,y)\n",
        "\n",
        "# y=np.exp(x)\n",
        "# plt.plot(x,y)\n",
        "\n",
        "y=np.log(np.abs(x) + 1)\n",
        "plt.plot(x,y)\n"
      ],
      "metadata": {
        "colab": {
          "base_uri": "https://localhost:8080/",
          "height": 447
        },
        "id": "VnfMf1tsm-Hn",
        "outputId": "45a5a1b3-3f55-44bc-b366-ddaea037a275"
      },
      "execution_count": 33,
      "outputs": [
        {
          "output_type": "execute_result",
          "data": {
            "text/plain": [
              "[<matplotlib.lines.Line2D at 0x7f2e06f62a90>]"
            ]
          },
          "metadata": {},
          "execution_count": 33
        },
        {
          "output_type": "display_data",
          "data": {
            "text/plain": [
              "<Figure size 640x480 with 1 Axes>"
            ],
            "image/png": "[encoded data removed]"
          },
          "metadata": {}
        }
      ]
    }
  ]
}