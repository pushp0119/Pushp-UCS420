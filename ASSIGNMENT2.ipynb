{
  "nbformat": 4,
  "nbformat_minor": 0,
  "metadata": {
    "colab": {
      "provenance": [],
      "authorship_tag": "ABX9TyNjff4n9vgQaxrwkmIeMgO4",
      "include_colab_link": true
    },
    "kernelspec": {
      "name": "python3",
      "display_name": "Python 3"
    },
    "language_info": {
      "name": "python"
    }
  },
  "cells": [
    {
      "cell_type": "markdown",
      "metadata": {
        "id": "view-in-github",
        "colab_type": "text"
      },
      "source": [
        "<a href=\"https://colab.research.google.com/github/pushp0119/Pushp-UCS712/blob/main/ASSIGNMENT2.ipynb\" target=\"_parent\"><img src=\"https://colab.research.google.com/assets/colab-badge.svg\" alt=\"Open In Colab\"/></a>"
      ]
    },
    {
      "cell_type": "markdown",
      "source": [
        "**Q1**\n",
        "Create a List L that is defined as= [10, 20, 30, 40, 50, 60, 70, 80].\n",
        "i. WAP to add 200 and 300 to L.\n",
        "ii. WAP to remove 10 and 30 from L.\n",
        "iii. WAP to sort L in ascending order.\n",
        "iv. WAP to sort L in descending order."
      ],
      "metadata": {
        "id": "526XlCk3TKtr"
      }
    },
    {
      "cell_type": "code",
      "source": [
        "list= [10, 20, 30, 40, 50, 60, 70, 80]\n",
        "list.append(200)\n",
        "list.append(300)\n",
        "print(list)\n",
        "list.remove(20)\n",
        "list.remove(30)\n",
        "print(list)\n",
        "list.sort()\n",
        "print(list)\n",
        "list.sort(reverse=True)\n",
        "print(list)"
      ],
      "metadata": {
        "colab": {
          "base_uri": "https://localhost:8080/"
        },
        "id": "4fOQVi3sTaeS",
        "outputId": "e1934fef-2296-46bf-9d70-37ebd2496d6a"
      },
      "execution_count": null,
      "outputs": [
        {
          "output_type": "stream",
          "name": "stdout",
          "text": [
            "[10, 20, 30, 40, 50, 60, 70, 80, 200, 300]\n",
            "[10, 40, 50, 60, 70, 80, 200, 300]\n",
            "[10, 40, 50, 60, 70, 80, 200, 300]\n",
            "[300, 200, 80, 70, 60, 50, 40, 10]\n"
          ]
        }
      ]
    },
    {
      "cell_type": "markdown",
      "source": [
        "**Q2**\n",
        "Create a tuple of marks scored as scores = (45, 89.5, 76, 45.4, 89, 92, 58, 45) and\n",
        "perform the following operations using tuple functions:\n",
        "i. Identify the highest score and its index in the tuple.\n",
        "ii. Find the lowest score and count how many times it appears.\n",
        "iii. Reverse the tuple and return it as a list.\n",
        "iv. Check if a specific score ‘76’ (input by the user) is present in the tuple and\n",
        "print its first occurrence index, or a message saying it’s not present."
      ],
      "metadata": {
        "id": "OwcKB25xUkQL"
      }
    },
    {
      "cell_type": "code",
      "source": [
        "scores= (45, 89.5, 76, 45.4, 89, 92, 58, 45)\n",
        "high=scores[0]\n",
        "pos=0\n",
        "for i in range(len(scores)):\n",
        "    if scores[i] > high:\n",
        "        high = scores[i]\n",
        "        pos = i\n",
        "print('Highest Score:',high,'Index:',pos)\n",
        "a=sorted(scores)\n",
        "count=0\n",
        "for i in a:\n",
        "  if a[0]==i:\n",
        "    count+=1\n",
        "print('Lowest:',a[0],'Count:',count)\n",
        "print(list(scores[::-1]))\n",
        "if 76 in scores:\n",
        "  print('Found at index',scores.index(76))\n",
        "else:\n",
        "  print('Not Found')"
      ],
      "metadata": {
        "colab": {
          "base_uri": "https://localhost:8080/"
        },
        "id": "bDLqhwIQUnGK",
        "outputId": "b99332b7-b9c8-4d2e-a261-0d44b2247454"
      },
      "execution_count": null,
      "outputs": [
        {
          "output_type": "stream",
          "name": "stdout",
          "text": [
            "Highest Score: 92 Index: 5\n",
            "Lowest: 45 Count: 2\n",
            "[45, 58, 92, 89, 45.4, 76, 89.5, 45]\n",
            "Found at index 2\n"
          ]
        }
      ]
    },
    {
      "cell_type": "markdown",
      "source": [
        "**Q3**\n",
        "WAP to create a list of 100 random numbers between 100 and 900. Count and print\n",
        "the:\n",
        "i. All odd numbers\n",
        "ii. All even numbers\n",
        "iii. All prime numbers"
      ],
      "metadata": {
        "id": "LLND7rJ6M56n"
      }
    },
    {
      "cell_type": "code",
      "source": [
        "import random as r\n",
        "import math as m\n",
        "def isPrime(n):\n",
        "  if n < 2:\n",
        "        return False\n",
        "  for i in range(2,int(m.sqrt(n))):\n",
        "    if n%i==0:\n",
        "      return False\n",
        "  return True\n",
        "\n",
        "list=[r.randint(100,900) for _ in range(100)]\n",
        "print(list)\n",
        "odd=[n for n in list if n%2!=0]\n",
        "even=[n for n in list if n%2==0]\n",
        "prime=[n for n in list if isPrime(n)]\n",
        "\n",
        "print(odd)\n",
        "print(len(odd))\n",
        "print(even)\n",
        "print(len(even))\n",
        "print(prime)\n",
        "print(len(prime))"
      ],
      "metadata": {
        "id": "bWnEaBHTNFSc"
      },
      "execution_count": null,
      "outputs": []
    },
    {
      "cell_type": "markdown",
      "source": [
        "**Q4**\n",
        "Consider the following two sets, A and B, represenƟng scores of two teams in mulƟple\n",
        "matches. A = {34, 56, 78, 90} and B = {78, 45, 90, 23}\n",
        "WAP to perform the following operaƟons using set funcƟons:\n",
        "i. Find the unique scores achieved by both teams (union of sets).\n",
        "ii. IdenƟfy the scores that are common to both teams (intersecƟon of sets).\n",
        "iii. Find the scores that are exclusive to each team (symmetric difference).\n",
        "iv. Check if the scores of team A are a subset of team B, and if team B's scores are\n",
        "a superset of team A.\n",
        "v. Remove a specific score X (input by the user) from set A if it exists. If not, print\n",
        "a message saying it is not present."
      ],
      "metadata": {
        "id": "oXZgJndnnm-A"
      }
    },
    {
      "cell_type": "code",
      "source": [
        "A = {34, 56, 78, 90}\n",
        "B = {78, 45, 90, 23}\n",
        "print(A.union(B))\n",
        "print(A.intersection(B))\n",
        "print(A.symmetric_difference(B))\n",
        "if A.issubset(B):\n",
        "    print(\"Team A's scores are a subset of Team B's scores.\")\n",
        "else:\n",
        "    print(\"Team A's scores are NOT a subset of Team B's scores.\")\n",
        "\n",
        "if A.issuperset(B):\n",
        "    print(\"Team B's scores are a superset of Team A's scores.\")\n",
        "else:\n",
        "    print(\"Team B's scores are NOT a superset of Team A's scores.\")\n",
        "\n",
        "n=int(input(\"Enter a score to remove from Team A: \"))\n",
        "if n in A:\n",
        "  A.remove(n)\n",
        "  print(A)\n",
        "else:\n",
        "  print('Not found')"
      ],
      "metadata": {
        "colab": {
          "base_uri": "https://localhost:8080/"
        },
        "id": "eEG2k5oOny4U",
        "outputId": "0a590a65-b633-4ba8-c10c-720fe227e0cc"
      },
      "execution_count": 5,
      "outputs": [
        {
          "output_type": "stream",
          "name": "stdout",
          "text": [
            "{34, 45, 78, 23, 56, 90}\n",
            "{90, 78}\n",
            "{34, 45, 23, 56}\n",
            "Team A's scores are NOT a subset of Team B's scores.\n",
            "Team B's scores are NOT a superset of Team A's scores.\n",
            "Enter a score to remove from Team A: 34\n",
            "{56, 90, 78}\n"
          ]
        }
      ]
    },
    {
      "cell_type": "markdown",
      "source": [
        "**Q5**\n",
        "Write a program to rename a key city to a location in the following dictionary."
      ],
      "metadata": {
        "id": "8abGnPn7nzVI"
      }
    },
    {
      "cell_type": "code",
      "source": [
        "dict={\"name\":\"Kelly\",\"city\":\"New York\"}\n",
        "print(dict)\n",
        "dict[\"location\"]=dict.pop(\"city\")\n",
        "print(dict)"
      ],
      "metadata": {
        "colab": {
          "base_uri": "https://localhost:8080/"
        },
        "id": "8PwgsLy8n_MA",
        "outputId": "30cd5f26-214b-4ca6-e8cd-cd307d0673b2"
      },
      "execution_count": 3,
      "outputs": [
        {
          "output_type": "stream",
          "name": "stdout",
          "text": [
            "{'name': 'Kelly', 'city': 'New York'}\n",
            "{'name': 'Kelly', 'location': 'New York'}\n"
          ]
        }
      ]
    }
  ]
}