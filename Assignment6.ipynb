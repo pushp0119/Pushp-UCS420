{
  "nbformat": 4,
  "nbformat_minor": 0,
  "metadata": {
    "colab": {
      "provenance": [],
      "authorship_tag": "ABX9TyMTqNHEtmXePvftqYkWhO99",
      "include_colab_link": true
    },
    "kernelspec": {
      "name": "python3",
      "display_name": "Python 3"
    },
    "language_info": {
      "name": "python"
    }
  },
  "cells": [
    {
      "cell_type": "markdown",
      "metadata": {
        "id": "view-in-github",
        "colab_type": "text"
      },
      "source": [
        "<a href=\"https://colab.research.google.com/github/pushp0119/Pushp-UCS712/blob/main/Assignment6.ipynb\" target=\"_parent\"><img src=\"https://colab.research.google.com/assets/colab-badge.svg\" alt=\"Open In Colab\"/></a>"
      ]
    },
    {
      "cell_type": "markdown",
      "source": [
        "**Assingment 6.1: WAP using function that add all odd numbers from 1 to n, n is given by the user.**"
      ],
      "metadata": {
        "id": "_hEuUBypauFb"
      }
    },
    {
      "cell_type": "code",
      "source": [
        "def addOdd(n):\n",
        "  sum=0\n",
        "  for i in range(1,n+1):\n",
        "    if i%2!=0:\n",
        "      sum+=i\n",
        "  return sum\n",
        "n=int(input('Enter a number'))\n",
        "print('Sum of odd numbers',addOdd(n))\n",
        "\n"
      ],
      "metadata": {
        "colab": {
          "base_uri": "https://localhost:8080/"
        },
        "id": "bivUUwQCazJZ",
        "outputId": "65b7686f-6026-4865-f7bf-86dc901e2e9b"
      },
      "execution_count": 1,
      "outputs": [
        {
          "output_type": "stream",
          "name": "stdout",
          "text": [
            "Enter a number9\n",
            "Sum of odd numbers 25\n"
          ]
        }
      ]
    },
    {
      "cell_type": "markdown",
      "source": [
        "**Assingment 6.2: WAP using function that add all prime numbers from 1 to n, n given by the user.**"
      ],
      "metadata": {
        "id": "3alikUqDdYgR"
      }
    },
    {
      "cell_type": "code",
      "source": [
        "def addPrime(n):\n",
        "  sum=0\n",
        "  for i in range(2,n+1):\n",
        "    flag=True\n",
        "    for j in range(2,i):\n",
        "     if i%j==0:\n",
        "      flag=False\n",
        "    if flag:\n",
        "      sum+=i\n",
        "  return sum\n",
        "n=int(input('Enter a number'))\n",
        "print('Sum of primes=',addPrime(n))"
      ],
      "metadata": {
        "colab": {
          "base_uri": "https://localhost:8080/"
        },
        "id": "ict3b180dcn7",
        "outputId": "478b2221-7643-4119-9653-9963a65301aa"
      },
      "execution_count": 2,
      "outputs": [
        {
          "output_type": "stream",
          "name": "stdout",
          "text": [
            "Enter a number10\n",
            "Sum of primes= 17\n"
          ]
        }
      ]
    }
  ]
}