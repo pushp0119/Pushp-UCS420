{
  "nbformat": 4,
  "nbformat_minor": 0,
  "metadata": {
    "colab": {
      "provenance": [],
      "authorship_tag": "ABX9TyPHpugeVc/HiC801smFyt3J",
      "include_colab_link": true
    },
    "kernelspec": {
      "name": "python3",
      "display_name": "Python 3"
    },
    "language_info": {
      "name": "python"
    }
  },
  "cells": [
    {
      "cell_type": "markdown",
      "metadata": {
        "id": "view-in-github",
        "colab_type": "text"
      },
      "source": [
        "<a href=\"https://colab.research.google.com/github/pushp0119/Pushp-UCS712/blob/main/ASSIGNMENT4.ipynb\" target=\"_parent\"><img src=\"https://colab.research.google.com/assets/colab-badge.svg\" alt=\"Open In Colab\"/></a>"
      ]
    },
    {
      "cell_type": "markdown",
      "source": [
        "Q.1 Write a program to create a NumPy 1D-array with 5 elements and perform basic\n",
        "operations like:\n",
        "a) Addition of 2 in all the element\n",
        "b) Multiply 3 with all the elements\n",
        "c) Divide every element by 2"
      ],
      "metadata": {
        "id": "rjU0hiIyVGiK"
      }
    },
    {
      "cell_type": "code",
      "execution_count": 4,
      "metadata": {
        "colab": {
          "base_uri": "https://localhost:8080/"
        },
        "id": "knpkkng4UsMp",
        "outputId": "4c87e037-c9cc-47b9-e03b-5614cfbee2b4"
      },
      "outputs": [
        {
          "output_type": "stream",
          "name": "stdout",
          "text": [
            "[12 22 37 45 80 46]\n",
            "[ 36  66 111 135 240 138]\n",
            "[ 18  33  55  67 120  69]\n"
          ]
        }
      ],
      "source": [
        "import numpy as np\n",
        "a=np.array([10,20,35,43,78,44])\n",
        "for i in range(0,a.size):\n",
        "  a[i]=a[i]+2\n",
        "print(a)\n",
        "\n",
        "for i in range(0,a.size):\n",
        "  a[i]=a[i]*3\n",
        "print(a)\n",
        "\n",
        "for i in range(0,a.size):\n",
        "  a[i]=a[i]/2\n",
        "print(a)"
      ]
    },
    {
      "cell_type": "markdown",
      "source": [
        "Q.2 Questions on Basic NumPy Array:\n",
        "a) Reverse the NumPy array: arr = np.array([1, 2, 3, 6, 4, 5])\n",
        "b) Find the most frequent value and their indice(s) in the following arrays:\n",
        "i. x = np.array([1,2,3,4,5,1,2,1,1,1])\n",
        "ii. y = np.array([1, 1, 1, 2, 3, 4, 2, 4, 3, 3, ])"
      ],
      "metadata": {
        "id": "5tNkRrIDWCAP"
      }
    },
    {
      "cell_type": "code",
      "source": [
        "import numpy as np\n",
        "arr = np.array([1, 2, 3, 6, 4, 5])\n",
        "print(np.flip(arr))\n",
        "\n",
        "x = np.array([1,2,3,4,5,1,2,1,1,1])\n",
        "val,count=np.unique(x,return_counts=True)\n",
        "mfv=val[np.argmax(count)]\n",
        "indices=np.where(x==mfv)[0]\n",
        "print('Most frequent value',mfv)\n",
        "print('Indices',indices)\n",
        "\n",
        "y = np.array([1, 1, 1, 2, 3, 4, 2, 4, 3, 3])\n",
        "val,count=np.unique(y,return_counts=True)\n",
        "mfv=val[np.argmax(count)]\n",
        "indices=np.where(y==mfv)[0]\n",
        "print('Most frequent value',mfv)\n",
        "print('Indices',indices)"
      ],
      "metadata": {
        "colab": {
          "base_uri": "https://localhost:8080/"
        },
        "id": "FNqdeMyVWEO2",
        "outputId": "07b07391-822a-4500-9040-c77f918677c9"
      },
      "execution_count": 18,
      "outputs": [
        {
          "output_type": "stream",
          "name": "stdout",
          "text": [
            "[5 4 6 3 2 1]\n",
            "Most frequent value 1\n",
            "Indices [0 5 7 8 9]\n",
            "Most frequent value 1\n",
            "Indices [0 1 2]\n"
          ]
        }
      ]
    },
    {
      "cell_type": "markdown",
      "source": [
        "Q.3 For the given 2-D array arr=np.array([10, 20, 30], [40, 50, 60], [70, 80, 90]), access\n",
        "elements using row and column indices as follows:\n",
        "a) Access 1st row, 2nd column\n",
        "b) Access 3rd row, 1st column"
      ],
      "metadata": {
        "id": "hNN1IgJqaMbG"
      }
    },
    {
      "cell_type": "code",
      "source": [
        "import numpy as np\n",
        "arr=np.array([[10, 20, 30], [40, 50, 60], [70, 80, 90]])\n",
        "print(arr[0][1])\n",
        "print(arr[2][0])"
      ],
      "metadata": {
        "colab": {
          "base_uri": "https://localhost:8080/"
        },
        "id": "nEheKEn-aNNc",
        "outputId": "e7049d0d-b69f-4989-e289-d175ca112af3"
      },
      "execution_count": 23,
      "outputs": [
        {
          "output_type": "stream",
          "name": "stdout",
          "text": [
            "20\n",
            "70\n"
          ]
        }
      ]
    },
    {
      "cell_type": "markdown",
      "source": [
        "Q.4 Write program to create an 1-D NumPy array named <<Your Name>> with evenly\n",
        "spaced 25 numbers from 10 to 100 using linspace(). Print the dimensions of the array,\n",
        "shape, total elements, the data type of each element and total number of bytes consumed\n",
        "by the array. Find the transpose of this array using reshape() attribute. Can we do the same\n",
        "with T attribute?"
      ],
      "metadata": {
        "id": "_ZvQVAlncBky"
      }
    },
    {
      "cell_type": "code",
      "source": [
        "import numpy as np\n",
        "pushp=np.linspace(10,100,25)\n",
        "print(pushp.ndim)\n",
        "print(pushp.shape)\n",
        "print(pushp.ndim*pushp.shape)\n",
        "print(pushp.dtype)\n",
        "print(pushp.nbytes)\n",
        "print(pushp.reshape(25,1).swapaxes(0,1))\n",
        "print(pushp.T)"
      ],
      "metadata": {
        "colab": {
          "base_uri": "https://localhost:8080/"
        },
        "id": "6S0j8PLscG9I",
        "outputId": "b8cf2822-7b56-4145-d271-c187eee95557"
      },
      "execution_count": 31,
      "outputs": [
        {
          "output_type": "stream",
          "name": "stdout",
          "text": [
            "1\n",
            "(25,)\n",
            "(25,)\n",
            "float64\n",
            "200\n",
            "[[ 10.    13.75  17.5   21.25  25.    28.75  32.5   36.25  40.    43.75\n",
            "   47.5   51.25  55.    58.75  62.5   66.25  70.    73.75  77.5   81.25\n",
            "   85.    88.75  92.5   96.25 100.  ]]\n",
            "[ 10.    13.75  17.5   21.25  25.    28.75  32.5   36.25  40.    43.75\n",
            "  47.5   51.25  55.    58.75  62.5   66.25  70.    73.75  77.5   81.25\n",
            "  85.    88.75  92.5   96.25 100.  ]\n"
          ]
        }
      ]
    },
    {
      "cell_type": "markdown",
      "source": [
        "Q5. Create a 2-D Array of three rows and four columns, named ucs420_<your_name>>\n",
        "with following values – 10, 20, 30, 40, 50, 60, 70, 80, 90, 15, 20, 35. Compute the mean,\n",
        "median, max, min, unique elements. Reshape the array to four rows and three columns and\n",
        "name it as reshaped_ ucs420_<your_name>>. Resize the array to two rows and three\n",
        "columns and name it as resized_ ucs420_<your_name>>."
      ],
      "metadata": {
        "id": "zkYjdV7GgALm"
      }
    },
    {
      "cell_type": "code",
      "source": [
        "import numpy as np\n",
        "ucs420_pushp=np.array([[10, 20, 30, 40],[50, 60, 70, 80],[90, 15, 20, 35]])\n",
        "print(np.mean(ucs420_pushp))\n",
        "print(np.median(ucs420_pushp))\n",
        "print(np.max(ucs420_pushp))\n",
        "print(np.min(ucs420_pushp))\n",
        "print(np.unique(ucs420_pushp))\n",
        "reshaped_ucs420_pushp=ucs420_pushp.reshape(4,3)\n",
        "print(reshaped_ucs420_pushp)\n",
        "resized_ucs420_pushp=np.resize(ucs420_pushp,(2,3))\n",
        "print(resized_ucs420_pushp)"
      ],
      "metadata": {
        "colab": {
          "base_uri": "https://localhost:8080/"
        },
        "id": "GLMxb6s9gBBX",
        "outputId": "610a27e4-0ee6-49d1-8226-e6abea93ea42"
      },
      "execution_count": 44,
      "outputs": [
        {
          "output_type": "stream",
          "name": "stdout",
          "text": [
            "43.333333333333336\n",
            "37.5\n",
            "90\n",
            "10\n",
            "[10 15 20 30 35 40 50 60 70 80 90]\n",
            "[[10 20 30]\n",
            " [40 50 60]\n",
            " [70 80 90]\n",
            " [15 20 35]]\n",
            "[[10 20 30]\n",
            " [40 50 60]]\n"
          ]
        }
      ]
    }
  ]
}