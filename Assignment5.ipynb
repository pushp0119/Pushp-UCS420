{
  "nbformat": 4,
  "nbformat_minor": 0,
  "metadata": {
    "colab": {
      "provenance": [],
      "authorship_tag": "ABX9TyO7Tg/+D6rCa7sUnQXbgQGQ",
      "include_colab_link": true
    },
    "kernelspec": {
      "name": "python3",
      "display_name": "Python 3"
    },
    "language_info": {
      "name": "python"
    }
  },
  "cells": [
    {
      "cell_type": "markdown",
      "metadata": {
        "id": "view-in-github",
        "colab_type": "text"
      },
      "source": [
        "<a href=\"https://colab.research.google.com/github/pushp0119/Pushp-UCS712/blob/main/Assignment5.ipynb\" target=\"_parent\"><img src=\"https://colab.research.google.com/assets/colab-badge.svg\" alt=\"Open In Colab\"/></a>"
      ]
    },
    {
      "cell_type": "markdown",
      "source": [
        "**Assingment 5.1: WAP to find max amoung three numbers and input from user.**"
      ],
      "metadata": {
        "id": "biD2r8M6S-lO"
      }
    },
    {
      "cell_type": "code",
      "source": [
        "a=int(input('Enter a number'))\n",
        "b=int(input('Enter a number'))\n",
        "c=int(input('Enter a number'))\n",
        "print(max(list((a,b,c))))"
      ],
      "metadata": {
        "id": "rel2umzWTIXM",
        "colab": {
          "base_uri": "https://localhost:8080/"
        },
        "outputId": "5f4f560a-e652-48d9-c0a0-154e13bf646c"
      },
      "execution_count": null,
      "outputs": [
        {
          "output_type": "stream",
          "name": "stdout",
          "text": [
            "Enter a number32\n",
            "Enter a number56\n",
            "Enter a number23\n",
            "56\n"
          ]
        }
      ]
    },
    {
      "cell_type": "markdown",
      "source": [
        "**Assingment 5.2: WAP to add all numbers divisible by 7 and 9 from 1 to n and n is given by the user.**"
      ],
      "metadata": {
        "id": "dSB05aDzUYKM"
      }
    },
    {
      "cell_type": "code",
      "source": [
        "n=int(input('Enter a number'))\n",
        "sum=0\n",
        "for i in range(1,n+1):\n",
        "  if i%7==0 and i%9==0:\n",
        "    sum+=i\n",
        "print(sum)"
      ],
      "metadata": {
        "colab": {
          "base_uri": "https://localhost:8080/"
        },
        "id": "DsbXMkqvUgLC",
        "outputId": "887927d8-03f0-49fe-db9f-9ab13cb8741e"
      },
      "execution_count": null,
      "outputs": [
        {
          "output_type": "stream",
          "name": "stdout",
          "text": [
            "Enter a number63\n",
            "63\n"
          ]
        }
      ]
    },
    {
      "cell_type": "markdown",
      "source": [
        "**Assingment 5.3: WAP to add all prime numbers from 1 to n and n is given by the user.**"
      ],
      "metadata": {
        "id": "d50IfChtW4tR"
      }
    },
    {
      "cell_type": "code",
      "source": [
        "n=int(input('Enter a number'))\n",
        "sum=0\n",
        "for i in range(2,n+1):\n",
        "  flag=True\n",
        "  for j in range(2,i):\n",
        "    if i%j==0:\n",
        "      flag=False\n",
        "  if flag:\n",
        "    sum+=i\n",
        "print('Sum of primes=',sum)"
      ],
      "metadata": {
        "colab": {
          "base_uri": "https://localhost:8080/"
        },
        "id": "9H1pYAqKXYJd",
        "outputId": "e6f7f939-551e-4578-b401-87e8a3bec39c"
      },
      "execution_count": 8,
      "outputs": [
        {
          "output_type": "stream",
          "name": "stdout",
          "text": [
            "Enter a number10\n",
            "Sum of primes= 17\n"
          ]
        }
      ]
    }
  ]
}