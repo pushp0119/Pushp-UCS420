{
  "nbformat": 4,
  "nbformat_minor": 0,
  "metadata": {
    "colab": {
      "provenance": [],
      "authorship_tag": "ABX9TyN/ltTmj9yCYtmdmE4CgWA/",
      "include_colab_link": true
    },
    "kernelspec": {
      "name": "python3",
      "display_name": "Python 3"
    },
    "language_info": {
      "name": "python"
    }
  },
  "cells": [
    {
      "cell_type": "markdown",
      "metadata": {
        "id": "view-in-github",
        "colab_type": "text"
      },
      "source": [
        "<a href=\"https://colab.research.google.com/github/pushp0119/Pushp-UCS712/blob/main/Assignment2.ipynb\" target=\"_parent\"><img src=\"https://colab.research.google.com/assets/colab-badge.svg\" alt=\"Open In Colab\"/></a>"
      ]
    },
    {
      "cell_type": "code",
      "execution_count": null,
      "metadata": {
        "id": "nITCgH4SZ89T"
      },
      "outputs": [],
      "source": []
    },
    {
      "cell_type": "markdown",
      "source": [
        "**Assingment 2.1: WAP to add three numbers and print the result.**"
      ],
      "metadata": {
        "id": "ZOKZvGZHVgCW"
      }
    },
    {
      "cell_type": "code",
      "source": [
        "a=b=c=7\n",
        "print(a+b+c)"
      ],
      "metadata": {
        "colab": {
          "base_uri": "https://localhost:8080/"
        },
        "id": "mtSAlxVMVQ_G",
        "outputId": "7b3656c9-912f-4841-f647-41c48b4ae5e9"
      },
      "execution_count": null,
      "outputs": [
        {
          "output_type": "stream",
          "name": "stdout",
          "text": [
            "21\n"
          ]
        }
      ]
    },
    {
      "cell_type": "markdown",
      "source": [
        "**Assingment 2.2: WAP to concatinate three strings and print the result.**"
      ],
      "metadata": {
        "id": "PzsHt212WVE-"
      }
    },
    {
      "cell_type": "code",
      "source": [
        "print('hell'+'o','world')"
      ],
      "metadata": {
        "colab": {
          "base_uri": "https://localhost:8080/"
        },
        "id": "AYoyqRmwWYN9",
        "outputId": "a0aa0505-d3f8-4ad9-bb4d-ba66e6da474d"
      },
      "execution_count": null,
      "outputs": [
        {
          "output_type": "stream",
          "name": "stdout",
          "text": [
            "hello world\n"
          ]
        }
      ]
    }
  ]
}